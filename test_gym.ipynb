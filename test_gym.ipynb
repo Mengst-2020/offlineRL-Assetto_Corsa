{
 "cells": [
  {
   "cell_type": "markdown",
   "metadata": {},
   "source": [
    "# Gym demo\n",
    "\n",
    "Demonstrate the use of the the Gym interface"
   ]
  },
  {
   "cell_type": "code",
   "execution_count": 1,
   "metadata": {},
   "outputs": [],
   "source": [
    "%matplotlib inline\n",
    "\n",
    "import matplotlib.pyplot as plt\n",
    "import sys\n",
    "import os\n",
    "import numpy as np\n",
    "import pandas as pd\n",
    "import glob as glob\n",
    "import time\n",
    "import pickle\n",
    "from omegaconf import OmegaConf\n",
    "\n",
    "# add custom paths\n",
    "sys.path.extend([os.path.abspath('./assetto_corsa_gym')])\n",
    "import AssettoCorsaEnv.assettoCorsa as assettoCorsa\n",
    "\n",
    "# Configure the logging system\n",
    "import logging\n",
    "logger = logging.getLogger(__name__)\n",
    "logging.basicConfig(\n",
    "    level=logging.INFO,  # Set the logging level (DEBUG, INFO, WARNING, ERROR, CRITICAL)\n",
    "    format='%(asctime)s - %(name)s - %(levelname)s - %(message)s',  # Format of the log messages\n",
    "    datefmt='%Y-%m-%d %H:%M:%S',  # Format of the timestamp\n",
    ")\n",
    "\n"
   ]
  },
  {
   "cell_type": "markdown",
   "metadata": {},
   "source": [
    "## Load config file"
   ]
  },
  {
   "cell_type": "code",
   "execution_count": 2,
   "metadata": {},
   "outputs": [],
   "source": [
    "config = OmegaConf.load(\"config.yml\")"
   ]
  },
  {
   "cell_type": "markdown",
   "metadata": {},
   "source": [
    "# Create env object"
   ]
  },
  {
   "cell_type": "code",
   "execution_count": 3,
   "metadata": {},
   "outputs": [
    {
     "name": "stderr",
     "output_type": "stream",
     "text": [
      "INFO:AssettoCorsaEnv.ac_env:Setting track monza\n",
      "WARNING:AssettoCorsaEnv.ac_client:Controls will be executed locally and not by the server\n",
      "INFO:AssettoCorsaEnv.track:Track loaded from: /home/mengst/Downloads/code/assetto_corsa_gym/assetto_corsa_gym/AssettoCorsaEnv/../AssettoCorsaConfigs/tracks/monza.csv Found 3760 segments downsampled by 10= 376 segments\n",
      "INFO:AssettoCorsaEnv.reference_lap:Reference Lap. Loading: /home/mengst/Downloads/code/assetto_corsa_gym/assetto_corsa_gym/AssettoCorsaEnv/../AssettoCorsaConfigs/tracks/monza-racing_line.csv\n",
      "INFO:AssettoCorsaEnv.reference_lap:Calculating curvature\n",
      "INFO:AssettoCorsaEnv.sensors_ray_casting:spatial_hash len 60\n",
      "/home/mengst/.conda/envs/p309/lib/python3.9/site-packages/gym/spaces/box.py:127: UserWarning: \u001b[33mWARN: Box bound precision lowered by casting to float32\u001b[0m\n",
      "  logger.warn(f\"Box bound precision lowered by casting to {self.dtype}\")\n",
      "INFO:AssettoCorsaEnv.ac_env:Adding previous obs to state 25*3 = 100\n",
      "INFO:AssettoCorsaEnv.ac_env:state_dim 125\n",
      "INFO:AssettoCorsaEnv.ac_env:action_space: Box(-1.0, 1.0, (3,), float32)\n"
     ]
    }
   ],
   "source": [
    "env = assettoCorsa.make_ac_env(cfg=config, work_dir=\"output\")\n"
   ]
  },
  {
   "cell_type": "markdown",
   "metadata": {},
   "source": [
    "# Show static info"
   ]
  },
  {
   "cell_type": "code",
   "execution_count": 4,
   "metadata": {},
   "outputs": [
    {
     "name": "stderr",
     "output_type": "stream",
     "text": [
      "INFO:__main__:Static info:\n",
      "INFO:__main__:TyreContactPoint_RR: [41.09868621826172, -10.244190216064453, 658.04541015625]\n",
      "INFO:__main__:TrackLength: 5758.66064453125\n",
      "INFO:__main__:penaltiesEnabled: 1\n",
      "INFO:__main__:WindSpeed: 0\n",
      "INFO:__main__:isCarInPitlane: 0\n",
      "INFO:__main__:isCarInPit: 0\n",
      "INFO:__main__:TrackConfiguration: \n",
      "INFO:__main__:WorldPosition: [41.79574966430664, -9.863253593444824, 659.4534301757812]\n",
      "INFO:__main__:LastSplits: [0, 0, 0]\n",
      "INFO:__main__:TyreContactPoint_FL: [42.484886169433594, -10.262252807617188, 660.7045288085938]\n",
      "INFO:__main__:TrackName: monza\n",
      "INFO:__main__:TyreContactPoint_FR: [40.8742790222168, -10.257800102233887, 660.5455322265625]\n",
      "INFO:__main__:autoShifterOn: 1\n",
      "INFO:__main__:CarName: bmw_z4_gt3\n",
      "INFO:__main__:WindDirection: 359\n",
      "INFO:__main__:CAR_WHEELBASE: 2.5102360499411227\n",
      "INFO:__main__:CAR_WHEEL_R: [0.3400000035762787, 0.3400000035762787, 0.35249999165534973, 0.35249999165534973]\n",
      "INFO:__main__:CAR_TRACK: 1.662847960865313\n",
      "INFO:__main__:TyreContactPoint_RL: [42.75348663330078, -10.248903274536133, 658.208740234375]\n",
      "INFO:__main__:TrackFullName: monza\n",
      "INFO:__main__:AC Mod config:\n",
      "INFO:__main__:ego_sampling_freq: 25\n",
      "INFO:__main__:simulation_management_server_port: 2347\n",
      "INFO:__main__:screen_capture_freq: 25\n",
      "INFO:__main__:final_image_width: 320\n",
      "INFO:__main__:trigger_image_capture_event_name: Local\\TriggerImageCapture\n",
      "INFO:__main__:ego_server_port: 2345\n",
      "INFO:__main__:opponents_server_port: 2346\n",
      "INFO:__main__:screen_capture_worker: screen_capture_worker.py\n",
      "INFO:__main__:color_mode: gray\n",
      "INFO:__main__:ego_server_host_name: 0.0.0.0\n",
      "INFO:__main__:simulation_management_server_host_name: 0.0.0.0\n",
      "INFO:__main__:screen_capture_save_path: captures\n",
      "INFO:__main__:telemetry_sampling_freq: 0\n",
      "INFO:__main__:screen_capture_verbose: False\n",
      "INFO:__main__:screen_capture_enable: False\n",
      "INFO:__main__:ego_sampling_freq_event_name: Local\\EgoSamplingFreqEvent\n",
      "INFO:__main__:config_python_env_name: p309\n",
      "INFO:__main__:screen_capture_save_to_disk: False\n",
      "INFO:__main__:sampling_freq: 50\n",
      "INFO:__main__:final_image_height: 240\n",
      "INFO:__main__:version: 0.0.1\n",
      "INFO:__main__:sampling_time: 0.02\n",
      "INFO:__main__:opponents_server_host_name: 0.0.0.0\n",
      "INFO:__main__:enable_alternative_python_interpreter: False\n",
      "INFO:__main__:enable_profiler: False\n",
      "INFO:__main__:relocate_screen: True\n",
      "INFO:__main__:vjoy_executed_by_server: False\n",
      "INFO:__main__:config_python_executable: None\n"
     ]
    }
   ],
   "source": [
    "static_info = env.client.simulation_management.get_static_info()\n",
    "ac_mod_config = env.client.simulation_management.get_config()\n",
    "\n",
    "logger.info(\"Static info:\")\n",
    "for i in static_info:\n",
    "    logger.info(f\"{i}: {static_info[i]}\")\n",
    "logger.info(\"AC Mod config:\")\n",
    "for i in ac_mod_config:\n",
    "    logger.info(f\"{i}: {ac_mod_config[i]}\")\n"
   ]
  },
  {
   "cell_type": "markdown",
   "metadata": {},
   "source": [
    "# Apply actions and recover the car"
   ]
  },
  {
   "cell_type": "code",
   "execution_count": 6,
   "metadata": {},
   "outputs": [
    {
     "name": "stderr",
     "output_type": "stream",
     "text": [
      "INFO:AssettoCorsaEnv.ac_env:Reset AC. Episode 2 total_steps: 103\n",
      "INFO:AssettoCorsaEnv.ac_client:sending reset to simulation management server\n",
      "INFO:AssettoCorsaEnv.ac_client:AC Client. Listening at host: localhost port: 2345\n",
      "INFO:AssettoCorsaEnv.ac_client:Client connected on 2345\n",
      "INFO:AssettoCorsaEnv.ac_env:Recover car\n",
      "INFO:AssettoCorsaEnv.ac_client:sending reset to simulation management server\n",
      "INFO:AssettoCorsaEnv.ac_env:Saved raw data to: output/laps//20250415_112211.574_states.parquet\n",
      "INFO:AssettoCorsaEnv.ac_env:total_steps: 206 ep_steps: 100 ep_reward:    9.8 LapDist: 4873.97 packages lost 0 BestLap: 0.0\n",
      "INFO:AssettoCorsaEnv.ac_env:LapNo_0:   0.00\n",
      "INFO:AssettoCorsaEnv.ac_env:ep_bestLapTime:   0.00\n",
      "INFO:AssettoCorsaEnv.ac_env:speed_mean:   8.14 speed_max:  22.31 max_abs_gap:   0.13 ep_laps: 1\n",
      "INFO:AssettoCorsaEnv.ac_env:dt avr: 0.040 std: 0.001 min: 0.039 max: 0.042\n"
     ]
    },
    {
     "data": {
      "text/plain": [
       "{'ep_count': 2,\n",
       " 'ep_steps': 101,\n",
       " 'total_steps': 206,\n",
       " 'packages_lost': 0,\n",
       " 'ep_reward': 9.810763080597944,\n",
       " 'speed_mean': 8.136283050853722,\n",
       " 'speed_max': 22.314556121826172,\n",
       " 'BestLap': 0.0,\n",
       " 'terminated': False,\n",
       " 'LapNo_0': 0.0,\n",
       " 'ep_bestLapTime': 0}"
      ]
     },
     "execution_count": 6,
     "metadata": {},
     "output_type": "execute_result"
    }
   ],
   "source": [
    "states = []\n",
    "\n",
    "env.reset()\n",
    "\n",
    "for i in range(100):\n",
    "    if i % 2 == 0:\n",
    "        steer = .1\n",
    "    else:\n",
    "        steer = -.1\n",
    "    env.set_actions(np.array([steer, 0.1, -1.]))\n",
    "    next_state, reward, done, info = env.step(action=None)  # action is already applied\n",
    "    if done:\n",
    "        break\n",
    "\n",
    "env.recover_car()\n",
    "env.close()"
   ]
  },
  {
   "cell_type": "markdown",
   "metadata": {},
   "source": [
    "# Plot states"
   ]
  },
  {
   "cell_type": "code",
   "execution_count": null,
   "metadata": {},
   "outputs": [],
   "source": [
    "df = env.get_history()\n",
    "df.columns"
   ]
  },
  {
   "cell_type": "code",
   "execution_count": null,
   "metadata": {},
   "outputs": [],
   "source": [
    "plt.title(\"Speed\")\n",
    "plt.plot(df.speed)\n",
    "plt.show()\n",
    "\n",
    "plt.title(\"steerAngle\")\n",
    "plt.plot(df.steerAngle)\n",
    "plt.show()"
   ]
  }
 ],
 "metadata": {
  "kernelspec": {
   "display_name": "Python 3",
   "language": "python",
   "name": "python3"
  },
  "language_info": {
   "codemirror_mode": {
    "name": "ipython",
    "version": 3
   },
   "file_extension": ".py",
   "mimetype": "text/x-python",
   "name": "python",
   "nbconvert_exporter": "python",
   "pygments_lexer": "ipython3",
   "version": "3.9.13"
  }
 },
 "nbformat": 4,
 "nbformat_minor": 4
}

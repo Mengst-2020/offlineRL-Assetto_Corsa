{
 "cells": [
  {
   "cell_type": "code",
   "execution_count": null,
   "metadata": {},
   "outputs": [],
   "source": [
    "%matplotlib inline\n",
    "\n",
    "import matplotlib.pyplot as plt\n",
    "import sys\n",
    "import os\n",
    "import numpy as np\n",
    "import pandas as pd\n",
    "import glob as glob\n",
    "import time\n",
    "import pickle\n",
    "from omegaconf import OmegaConf\n",
    "\n",
    "# add custom paths\n",
    "sys.path.extend([os.path.abspath('./assetto_corsa_gym')])\n",
    "import AssettoCorsaEnv.assettoCorsa as assettoCorsa\n",
    "from AssettoCorsaEnv.brake_map import BrakeMap\n",
    "\n",
    "# Configure the logging system\n",
    "import logging\n",
    "logger = logging.getLogger(__name__)\n",
    "logging.basicConfig(\n",
    "    level=logging.INFO,  # Set the logging level (DEBUG, INFO, WARNING, ERROR, CRITICAL)\n",
    "    format='%(asctime)s - %(name)s - %(levelname)s - %(message)s',  # Format of the log messages\n",
    "    datefmt='%Y-%m-%d %H:%M:%S',  # Format of the timestamp\n",
    ")\n",
    "\n"
   ]
  },
  {
   "cell_type": "code",
   "execution_count": null,
   "metadata": {},
   "outputs": [],
   "source": [
    "# Create environment\n",
    "config = OmegaConf.load(\"config.yml\")\n",
    "\n",
    "# Set the configuration\n",
    "config.AssettoCorsa.use_relative_actions = False\n",
    "config.AssettoCorsa.enable_low_speed_termination = False\n",
    "config.AssettoCorsa.car = \"dallara_f317\" # dallara_f317, ks_mazda_miata\" # \"bmw_z4_gt3\"\n",
    "\n",
    "#env = assettoCorsa.make_ac_env(cfg=config, work_dir=\"output\")\n",
    "client = assettoCorsa.make_client_only(config.AssettoCorsa)"
   ]
  },
  {
   "cell_type": "code",
   "execution_count": null,
   "metadata": {},
   "outputs": [],
   "source": []
  },
  {
   "cell_type": "markdown",
   "metadata": {},
   "source": [
    "# Create the brake map by setting values throughout the full range and observing the telemetry"
   ]
  },
  {
   "cell_type": "code",
   "execution_count": null,
   "metadata": {},
   "outputs": [],
   "source": [
    "res = []\n",
    "\n",
    "client.reset()\n",
    "for b in np.linspace(-1,1, 21):\n",
    "    for i in range(25):\n",
    "        client.controls.set_controls(steer=0, acc=-1.0, brake=b)\n",
    "        client.respond_to_server()\n",
    "        state = client.step_sim()\n",
    "    r = {'brake': b, 'brakeStatus': state['brakeStatus']}\n",
    "    res.append(r.copy())\n",
    "    #print(r)\n",
    "\n",
    "# Save\n",
    "x = [r['brake'] for r in res]\n",
    "y = [r['brakeStatus'] for r in res]\n",
    "brake_map = BrakeMap(x, y, kind='cubic')\n",
    "brake_map.save()"
   ]
  },
  {
   "cell_type": "code",
   "execution_count": null,
   "metadata": {},
   "outputs": [],
   "source": [
    "#brake_map = BrakeMap.load()"
   ]
  },
  {
   "cell_type": "code",
   "execution_count": null,
   "metadata": {},
   "outputs": [],
   "source": [
    "y_int = brake_map.get_y(np.arange(-1, 1, 0.01))\n",
    "\n",
    "# Create the plot\n",
    "plt.figure(figsize=(8, 6))\n",
    "plt.plot(x, y, 'o-', label='Data Points', alpha=0.5)  # 'o-' creates a line plot with circle markers\n",
    "plt.scatter(np.arange(-1, 1, 0.01), y_int, s=2, label='Data Points', color='red')  # 'o-' creates a line plot with circle markers\n",
    "\n",
    "# Adding plot labels and title\n",
    "plt.xlabel('brake')\n",
    "plt.ylabel('brake AC Feedback')\n",
    "plt.title('brake map forward')\n",
    "plt.grid(True)  # Show grid\n",
    "plt.legend()  # Show legend\n",
    "\n",
    "# Display the plot\n",
    "plt.show()\n",
    "\n",
    "y = np.arange(0, 1, 0.01) # brake status\n",
    "x_int = brake_map.get_x(y)\n",
    "\n",
    "# Create the plot\n",
    "plt.figure(figsize=(8, 6))\n",
    "plt.scatter(y, x_int, s=2, label='Data Points', color='red')  # 'o-' creates a line plot with circle markers\n",
    "\n",
    "# Adding plot labels and title\n",
    "plt.xlabel('brake AC Feedback')\n",
    "plt.ylabel('brake')\n",
    "plt.title('Reverse')\n",
    "plt.grid(True)  # Show grid\n",
    "plt.legend()  # Show legend\n",
    "\n",
    "# Display the plot\n",
    "plt.show()"
   ]
  },
  {
   "cell_type": "markdown",
   "metadata": {},
   "source": [
    "# steer map"
   ]
  },
  {
   "cell_type": "code",
   "execution_count": null,
   "metadata": {},
   "outputs": [],
   "source": [
    "res = []\n",
    "\n",
    "client.reset()\n",
    "for b in np.linspace(-1,1, 101):\n",
    "    for i in range(5):\n",
    "        client.controls.set_controls(steer=b, acc=-1.0, brake=-1)\n",
    "        client.respond_to_server()\n",
    "        state = client.step_sim()\n",
    "    r = {'steer': b, 'steerAngle': state['steerAngle']}\n",
    "    res.append(r.copy())\n",
    "    #print(r)\n",
    "\n",
    "# Save\n",
    "x = [r['steer'] for r in res]\n",
    "y = [r['steerAngle'] for r in res]\n",
    "# Create the plot\n",
    "plt.figure(figsize=(8, 6))\n",
    "plt.plot(x, y, 'o-', label='Data Points', alpha=0.5)  # 'o-' creates a line plot with circle markers\n",
    "\n",
    "# Adding plot labels and title\n",
    "plt.xlabel('steer')\n",
    "plt.ylabel('steer AC Feedback')\n",
    "plt.grid(True)  # Show grid\n",
    "plt.legend()  # Show legend\n",
    "\n",
    "# Display the plot\n",
    "plt.show()"
   ]
  },
  {
   "cell_type": "code",
   "execution_count": null,
   "metadata": {},
   "outputs": [],
   "source": [
    "res = []\n",
    "\n",
    "client.reset()\n",
    "for b in [-1 , 1]:\n",
    "    for i in range(25):\n",
    "        client.controls.set_controls(steer=b, acc=-1.0, brake=-1)\n",
    "        client.respond_to_server()\n",
    "        state = client.step_sim()\n",
    "    r = {'action_steerAngle': b, 'steerAngle': state['steerAngle']}\n",
    "    res.append(r.copy())\n",
    "print(res)"
   ]
  },
  {
   "cell_type": "code",
   "execution_count": null,
   "metadata": {},
   "outputs": [],
   "source": [
    "import time\n",
    "import numpy as np\n",
    "\n",
    "states = []\n",
    "client.reset()\n",
    "\n",
    "low, high = 0.0, 1.0\n",
    "tolerance = 0.001  # Precision of binary search\n",
    "target_steer_angle = res[1]['steerAngle']\n",
    "best_command = None\n",
    "\n",
    "\n",
    "while high - low > tolerance:\n",
    "    mid = (low + high) / 2\n",
    "    client.controls.set_controls(steer=mid, acc=-1.0, brake=-1)\n",
    "    client.respond_to_server()\n",
    "    state = client.step_sim()\n",
    "    steerAngle = state[\"steerAngle\"]\n",
    "\n",
    "    print(f\"Steering Command: {mid:.4f}, Steer Angle: {steerAngle:.2f}\")\n",
    "\n",
    "    if steerAngle < target_steer_angle:\n",
    "        low = mid  # Increase steering command\n",
    "    else:\n",
    "        best_command = mid  # Store best found\n",
    "        high = mid  # Try to find a lower command that still reaches 240°\n",
    "\n",
    "    time.sleep(0.01)\n",
    "if best_command is not None:\n",
    "    print(f\"Closest Steering Command to reach {target_steer_angle}°: {best_command:.4f}\")\n",
    "else:\n",
    "    print(\"Could not find a valid command reaching 240°.\")\n",
    "\n"
   ]
  },
  {
   "cell_type": "code",
   "execution_count": null,
   "metadata": {},
   "outputs": [],
   "source": [
    "res[0]['action_steerAngle'] = -best_command\n",
    "res[1]['action_steerAngle'] = +best_command\n"
   ]
  },
  {
   "cell_type": "code",
   "execution_count": null,
   "metadata": {},
   "outputs": [],
   "source": [
    "import json\n",
    "\n",
    "# Saving to disk\n",
    "with open(\"steer_map.csv\", \"w\") as f: json.dump(res, f, indent=4)"
   ]
  },
  {
   "cell_type": "code",
   "execution_count": null,
   "metadata": {},
   "outputs": [],
   "source": [
    "pd.DataFrame(res).to_csv(\"steer_map.csv\", index=False)\n"
   ]
  },
  {
   "cell_type": "code",
   "execution_count": null,
   "metadata": {},
   "outputs": [],
   "source": []
  }
 ],
 "metadata": {
  "kernelspec": {
   "display_name": "p309",
   "language": "python",
   "name": "python3"
  },
  "language_info": {
   "codemirror_mode": {
    "name": "ipython",
    "version": 3
   },
   "file_extension": ".py",
   "mimetype": "text/x-python",
   "name": "python",
   "nbconvert_exporter": "python",
   "pygments_lexer": "ipython3",
   "version": "3.9.18"
  }
 },
 "nbformat": 4,
 "nbformat_minor": 4
}

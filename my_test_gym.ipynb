{
 "cells": [
  {
   "cell_type": "markdown",
   "metadata": {},
   "source": [
    "# Gym demo\n",
    "\n",
    "Demonstrate the use of the the Gym interface"
   ]
  },
  {
   "cell_type": "code",
   "execution_count": null,
   "metadata": {},
   "outputs": [],
   "source": [
    "%matplotlib inline\n",
    "\n",
    "import matplotlib.pyplot as plt\n",
    "import sys\n",
    "import os\n",
    "import numpy as np\n",
    "import pandas as pd\n",
    "import glob as glob\n",
    "import time\n",
    "import pickle\n",
    "from omegaconf import OmegaConf\n",
    "\n",
    "import minari\n",
    "from minari import DataCollector\n",
    "import torch\n",
    "\n",
    "# add custom paths\n",
    "sys.path.extend([os.path.abspath('./assetto_corsa_gym'), './algorithm/discor'])\n",
    "import AssettoCorsaEnv.assettoCorsa as assettoCorsa\n",
    "from discor.agent_dataset import Agent\n",
    "from discor.algorithm import SAC\n",
    "\n",
    "# Configure the logging system\n",
    "import logging\n",
    "logger = logging.getLogger(__name__)\n",
    "logging.basicConfig(\n",
    "    level=logging.INFO,  # Set the logging level (DEBUG, INFO, WARNING, ERROR, CRITICAL)\n",
    "    format='%(asctime)s - %(name)s - %(levelname)s - %(message)s',  # Format of the log messages\n",
    "    datefmt='%Y-%m-%d %H:%M:%S',  # Format of the timestamp\n",
    ")\n",
    "\n"
   ]
  },
  {
   "cell_type": "markdown",
   "metadata": {},
   "source": [
    "## Load config file"
   ]
  },
  {
   "cell_type": "code",
   "execution_count": null,
   "metadata": {},
   "outputs": [],
   "source": [
    "config = OmegaConf.load(\"config.yml\")\n",
    "env = assettoCorsa.make_ac_env(cfg=config, work_dir=\"output\")"
   ]
  },
  {
   "cell_type": "markdown",
   "metadata": {},
   "source": [
    "# Set Agent"
   ]
  },
  {
   "cell_type": "code",
   "execution_count": null,
   "metadata": {},
   "outputs": [],
   "source": [
    "device = torch.device(\"cpu\")\n",
    "algo = SAC(\n",
    "            state_dim=125,\n",
    "            action_dim=3,\n",
    "            device=device, seed=config.seed,\n",
    "            **OmegaConf.to_container(config.SAC))\n",
    "agent = Agent(env=env, test_env=env, algo=algo, log_dir=\"output\",\n",
    "                  device=device, seed=config.seed, **config.Agent, wandb_logger=None)\n"
   ]
  },
  {
   "cell_type": "markdown",
   "metadata": {},
   "source": [
    "# Train Agent original"
   ]
  },
  {
   "cell_type": "code",
   "execution_count": null,
   "metadata": {},
   "outputs": [],
   "source": [
    "# os.environ[\"MINARI_DATASETS_PATH\"] = \"F:/code/assetto_corsa_gym-main/mydata\"\n",
    "dataset= None\n",
    "while(True):\n",
    "    agent.train_episode()\n",
    "    if agent._steps > agent._num_steps:\n",
    "        break\n",
    "    if dataset is None:\n",
    "        dataset = env.create_dataset(\n",
    "            dataset_id=\"SAC/test-v1\",\n",
    "            algorithm_name=\"SAC-Policy\",\n",
    "            code_permalink=\"https://github.com/Farama-Foundation/Minari\",\n",
    "            author=\"Farama\",\n",
    "            author_email=\"contact@farama.org\"\n",
    "        )\n",
    "    else:\n",
    "        env.add_to_dataset(dataset)\n",
    "\n",
    "env.close()"
   ]
  },
  {
   "cell_type": "markdown",
   "metadata": {},
   "source": [
    "# Train Agent use ray"
   ]
  },
  {
   "cell_type": "code",
   "execution_count": null,
   "metadata": {},
   "outputs": [],
   "source": [
    "import ray\n",
    "import copy\n",
    "from ray.rllib.algorithms.ppo import PPOConfig\n",
    "sys.path.append(r\"F:/code/assetto_corsa_gym-main/assetto_corsa_gym\")\n",
    "from AssettoCorsaEnv.ac_env import AssettoCorsaEnv\n",
    "env = AssettoCorsaEnv()\n",
    "# ray.init()\n",
    "# algo_config=PPOConfig()\n",
    "# checkpoint_dir = f\"./ray_checkpoints/PPO\"\n",
    "# os.makedirs(checkpoint_dir, exist_ok=True)\n",
    "# algo_config = algo_config.training(gamma=0.9, lr=0.0001)\n",
    "# algo_config = algo_config.resources(num_gpus=0)\n",
    "# algo_config = algo_config.env_runners(num_env_runners=2) \n",
    "# algo_config = algo_config.environment(env=AssettoCorsaEnv)\n",
    "# # algo_config.replay_buffer_config[\"capacity\"] = 20000  # reduce replay buffer\n",
    "# algo_config = algo_config.framework('torch')\n",
    "\n",
    "# algo = algo_config.build()\n",
    "\n",
    "# # checkpoint_path = \"./checkpoints/SAC\"\n",
    "# # algo.restore(checkpoint_path)\n",
    "\n",
    "# while(True):\n",
    "#     result = algo.train()\n",
    "#     checkpoint = algo.save(checkpoint_dir)\n",
    "#     timesteps = result[\"timesteps_total\"]\n",
    "#     rwd_mean = result['episode_reward_mean']\n",
    "#     len_mean = result['episode_len_mean']\n",
    "#     print(\"=*=\" * 10)\n",
    "#     print(f\"|| Episode Reward Mean: {rwd_mean}, Episode Length Mean: {len_mean} ||\")"
   ]
  },
  {
   "cell_type": "markdown",
   "metadata": {},
   "source": [
    "# Test Agent"
   ]
  },
  {
   "cell_type": "code",
   "execution_count": null,
   "metadata": {},
   "outputs": [],
   "source": [
    "agent.load(\"outputs/20250306_153141.469/model/checkpoints/step_00400000\",False)\n",
    "os.environ[\"MINARI_DATASETS_PATH\"] = \"F:/code/assetto_corsa_gym-main/mydata\"\n",
    "dataset= None\n",
    "for _ in range(agent._num_eval_episodes):\n",
    "    state,_ = agent._env.reset()\n",
    "    done = False\n",
    "    while (not done):\n",
    "        action, _ = agent._algo.exploit(state)\n",
    "        next_state, reward, done, truncated,info =agent._env.step(action)\n",
    "        state = next_state\n",
    "        if dataset is None:\n",
    "            dataset = env.create_dataset(\n",
    "                dataset_id=\"SAC/test-v2\",\n",
    "                algorithm_name=\"SAC-Policy\",\n",
    "                code_permalink=\"https://github.com/Farama-Foundation/Minari\",\n",
    "                author=\"Farama\",\n",
    "                author_email=\"contact@farama.org\"\n",
    "            )\n",
    "        else:\n",
    "            env.add_to_dataset(dataset)\n",
    "\n",
    "env.close()"
   ]
  },
  {
   "cell_type": "markdown",
   "metadata": {},
   "source": [
    "# Random Agent"
   ]
  },
  {
   "cell_type": "code",
   "execution_count": null,
   "metadata": {},
   "outputs": [],
   "source": [
    "env.reset()\n",
    "for i in range(100):\n",
    "    if i % 2 == 0:\n",
    "        steer = .1\n",
    "    else:\n",
    "        steer = -.1\n",
    "    original_env = env.env \n",
    "    original_env = original_env.env\n",
    "    next_state, reward, done, _,info = env.step(action=np.array([steer, 0.5, -1.]))  # action is already applied\n",
    "    time.sleep(0.01)\n",
    "    if done:\n",
    "        break\n",
    "\n",
    "dataset = env.create_dataset(\n",
    "    dataset_id=\"hello/test-v0\",\n",
    "    algorithm_name=\"Random-Policy\",\n",
    "    code_permalink=\"https://github.com/Farama-Foundation/Minari\",\n",
    "    author=\"Farama\",\n",
    "    author_email=\"contact@farama.org\"\n",
    ")\n",
    "env.add_to_dataset(dataset)\n",
    "original_env.recover_car()\n",
    "env.close()"
   ]
  },
  {
   "cell_type": "markdown",
   "metadata": {},
   "source": [
    "# Plot states"
   ]
  },
  {
   "cell_type": "code",
   "execution_count": null,
   "metadata": {},
   "outputs": [],
   "source": [
    "import minari\n",
    "import os\n",
    "os.environ[\"MINARI_DATASETS_PATH\"] = \"F:/code/assetto_corsa_gym-main/mydata\"\n",
    "dataset = minari.load_dataset(\"SAC/test-v0\")\n",
    "\n",
    "episodes = dataset.sample_episodes(n_episodes=1)\n",
    "print(f\"EPISODE ID'S SAMPLE: {episodes}\")\n"
   ]
  },
  {
   "cell_type": "markdown",
   "metadata": {},
   "source": [
    "# Test my"
   ]
  },
  {
   "cell_type": "code",
   "execution_count": null,
   "metadata": {},
   "outputs": [],
   "source": []
  }
 ],
 "metadata": {
  "kernelspec": {
   "display_name": "Python 3",
   "language": "python",
   "name": "python3"
  },
  "language_info": {
   "codemirror_mode": {
    "name": "ipython",
    "version": 3
   },
   "file_extension": ".py",
   "mimetype": "text/x-python",
   "name": "python",
   "nbconvert_exporter": "python",
   "pygments_lexer": "ipython3",
   "version": "3.9.13"
  }
 },
 "nbformat": 4,
 "nbformat_minor": 4
}

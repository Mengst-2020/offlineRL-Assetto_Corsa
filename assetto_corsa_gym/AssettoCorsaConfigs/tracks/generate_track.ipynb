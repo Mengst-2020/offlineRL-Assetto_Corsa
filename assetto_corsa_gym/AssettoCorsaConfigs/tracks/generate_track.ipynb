{
 "cells": [
  {
   "cell_type": "code",
   "execution_count": null,
   "metadata": {},
   "outputs": [],
   "source": [
    "%matplotlib tk\n",
    "\n",
    "import matplotlib.pyplot as plt\n",
    "import sys\n",
    "import os\n",
    "import numpy as np\n",
    "import pandas as pd\n",
    "import glob as glob\n",
    "import time\n",
    "import pickle\n",
    "from omegaconf import OmegaConf\n",
    "from tqdm import tqdm\n",
    "\n",
    "def read_pickle(file, verbose=False):\n",
    "    if verbose: print('loading from..', file)\n",
    "    with open(file, 'rb') as f:\n",
    "        return pickle.load(f)\n",
    "\n",
    "# Configure the logging system\n",
    "import logging\n",
    "logger = logging.getLogger(__name__)\n",
    "logging.basicConfig(\n",
    "    level=logging.INFO,  # Set the logging level (DEBUG, INFO, WARNING, ERROR, CRITICAL)\n",
    "    format='%(asctime)s - %(name)s - %(levelname)s - %(message)s',  # Format of the log messages\n",
    "    datefmt='%Y-%m-%d %H:%M:%S',  # Format of the timestamp\n",
    ")\n"
   ]
  },
  {
   "cell_type": "code",
   "execution_count": null,
   "metadata": {},
   "outputs": [],
   "source": [
    "sys.path.append(os.path.abspath(os.path.join('../..')))\n",
    "import AssettoCorsaEnv.assettoCorsa as assettoCorsa\n",
    "from AssettoCorsaEnv.curvature import curvature_splines"
   ]
  },
  {
   "cell_type": "code",
   "execution_count": null,
   "metadata": {},
   "outputs": [],
   "source": [
    "config = OmegaConf.load(\"../../../config.yml\")\n",
    "client = assettoCorsa.make_client_only(config.AssettoCorsa)"
   ]
  },
  {
   "cell_type": "code",
   "execution_count": null,
   "metadata": {},
   "outputs": [],
   "source": [
    "tracks_path = \".\""
   ]
  },
  {
   "cell_type": "markdown",
   "metadata": {},
   "source": [
    "# Get track's bounds and racing line from AC"
   ]
  },
  {
   "cell_type": "code",
   "execution_count": null,
   "metadata": {},
   "outputs": [],
   "source": [
    "#track_file_name, track_file, ref_line_file = env.export_track_and_racing_line(output_path=tracks_path)\n",
    "\n",
    "track_file_name, track_file, ref_line_file, static_info = client.export_track_and_racing_line(output_path=tracks_path)"
   ]
  },
  {
   "cell_type": "code",
   "execution_count": null,
   "metadata": {},
   "outputs": [],
   "source": [
    "print(f'TrackFullName: {static_info[\"TrackFullName\"]}  TrackLength: {static_info[\"TrackLength\"]}   TrackName: {static_info[\"TrackName\"]}  TrackConfiguration: {static_info[\"TrackConfiguration\"]}')\n",
    "static_info"
   ]
  },
  {
   "cell_type": "markdown",
   "metadata": {},
   "source": [
    "# Check racing line"
   ]
  },
  {
   "cell_type": "code",
   "execution_count": null,
   "metadata": {},
   "outputs": [],
   "source": [
    "df = pd.read_csv(ref_line_file)\n",
    "file_channels = [\"pos_x\", \"pos_y\"]\n",
    "\n",
    "ts = df[file_channels].values"
   ]
  },
  {
   "cell_type": "code",
   "execution_count": null,
   "metadata": {},
   "outputs": [],
   "source": [
    "plt.scatter(ts[:,0],  ts[:,1], s=0.1, color=\"gray\")\n",
    "plt.scatter(ts[0,0],  ts[0,1], s=0.5, color=\"red\")"
   ]
  },
  {
   "cell_type": "code",
   "execution_count": null,
   "metadata": {},
   "outputs": [],
   "source": [
    "track_file_name"
   ]
  },
  {
   "cell_type": "markdown",
   "metadata": {},
   "source": [
    "# check\n",
    "\n",
    "- adapt this to the track\n",
    "- curvature should be close to zero at the end and beginning of the track (main straight)"
   ]
  },
  {
   "cell_type": "code",
   "execution_count": null,
   "metadata": {},
   "outputs": [],
   "source": [
    "\n",
    "if track_file_name == \"ks_red_bull_ring-layout_gp\":\n",
    "    curvature = curvature_splines( ts[:,0],  ts[:,1] , error=0.1)\n",
    "elif track_file_name == \"indianapolis_sp\":\n",
    "    curvature = curvature_splines( ts[:,0],  ts[:,1] , error=.25)\n",
    "elif track_file_name == \"imola\":\n",
    "    curvature = curvature_splines( ts[:,0],  ts[:,1] , error=1)\n",
    "elif track_file_name == \"ks_laguna_seca\":\n",
    "    curvature = curvature_splines( ts[:,0],  ts[:,1] , error=0.4)\n",
    "    curvature[2200:] = 0. # force zero in the last part\n",
    "elif track_file_name == \"monaco\":\n",
    "    curvature = curvature_splines( ts[:,0],  ts[:,1] , error=1.0)\n",
    "    curvature[:20] = 0. # force zero in the last part\n",
    "else:\n",
    "    curvature = curvature_splines( ts[:,0],  ts[:,1] , error=1.0)\n",
    "    curvature[2934:] = 0. # force zero in the last part\n",
    "\n",
    "curvature = curvature.reshape(-1,1)\n",
    "plt.plot(curvature, lw=0.7)"
   ]
  },
  {
   "cell_type": "markdown",
   "metadata": {},
   "source": [
    "# Create occupancy grip map"
   ]
  },
  {
   "cell_type": "code",
   "execution_count": null,
   "metadata": {},
   "outputs": [],
   "source": [
    "track_grid_file = tracks_path + os.sep + f\"{track_file_name}.pkl\"\n",
    "track_grid_file"
   ]
  },
  {
   "cell_type": "code",
   "execution_count": null,
   "metadata": {},
   "outputs": [],
   "source": [
    "from AssettoCorsaEnv.track import Track, in_quadrilateral\n",
    "\n",
    "track = Track(track_file)"
   ]
  },
  {
   "cell_type": "code",
   "execution_count": null,
   "metadata": {},
   "outputs": [],
   "source": [
    "plt.plot(track.left_border_x, track.left_border_y)\n",
    "plt.plot(track.right_border_x, track.right_border_y)\n",
    "plt.scatter(track.right_border_x, track.right_border_y, color='green', s=0.1)\n",
    "plt.scatter(track.left_border_x[0], track.left_border_y[0], color='red')\n",
    "\n",
    "# racing line\n",
    "plt.scatter(ts[:,0],  ts[:,1], s=0.1, color=\"gray\")\n",
    "plt.scatter(ts[0,0],  ts[0,1], s=0.5, color=\"red\")"
   ]
  },
  {
   "cell_type": "code",
   "execution_count": null,
   "metadata": {},
   "outputs": [],
   "source": [
    "# add 1 m just in case\n",
    "min_x = min( np.min(track.right_border_x), np.min(track.left_border_x) ) - 1\n",
    "min_y = min( np.min(track.right_border_y), np.min(track.left_border_y) ) - 1\n",
    "\n",
    "max_x = max( np.max(track.right_border_x), np.max(track.left_border_x) ) + 1\n",
    "max_y = max( np.max(track.right_border_y), np.max(track.left_border_y) ) + 1\n",
    "\n",
    "min_x, min_y, max_x, max_y\n"
   ]
  },
  {
   "cell_type": "code",
   "execution_count": null,
   "metadata": {},
   "outputs": [],
   "source": [
    "##\n",
    "## quick test hardcode a small grid\n",
    "##\n",
    "# max_x = min_x + 200\n",
    "# max_y = min_y + 220\n",
    "# max_x, max_y"
   ]
  },
  {
   "cell_type": "code",
   "execution_count": null,
   "metadata": {},
   "outputs": [],
   "source": [
    "cell_size = .1 # m"
   ]
  },
  {
   "cell_type": "code",
   "execution_count": null,
   "metadata": {},
   "outputs": [],
   "source": [
    "x_range = np.arange(min_x, max_x, cell_size)\n",
    "y_range = np.arange(min_y, max_y, cell_size)\n",
    "\n",
    "x_range.shape, y_range.shape\n"
   ]
  },
  {
   "cell_type": "code",
   "execution_count": null,
   "metadata": {},
   "outputs": [],
   "source": [
    "xx, yy = np.meshgrid(x_range, y_range)\n",
    "xx.shape, yy.shape\n"
   ]
  },
  {
   "cell_type": "code",
   "execution_count": null,
   "metadata": {},
   "outputs": [],
   "source": [
    "points = np.vstack([xx.ravel(), yy.ravel()]).T  \n"
   ]
  },
  {
   "cell_type": "code",
   "execution_count": null,
   "metadata": {},
   "outputs": [],
   "source": [
    "track.left_border_y.shape"
   ]
  },
  {
   "cell_type": "code",
   "execution_count": null,
   "metadata": {},
   "outputs": [],
   "source": [
    "show_segments = -1\n",
    "for n in range(len(track.right_border_x[:show_segments]))[::]:\n",
    "    plt.plot([track.left_border_x[n], track.right_border_x[n]],\n",
    "             [track.left_border_y[n], track.right_border_y[n]], color='blue')"
   ]
  },
  {
   "cell_type": "code",
   "execution_count": null,
   "metadata": {},
   "outputs": [],
   "source": [
    "n_segments = track.num_segments - 1\n",
    "n_segments"
   ]
  },
  {
   "cell_type": "code",
   "execution_count": null,
   "metadata": {},
   "outputs": [],
   "source": [
    "found_base = np.zeros(points.shape[0], dtype='bool')\n",
    "\n",
    "def calc_points_inside_quad():\n",
    "    return found\n",
    "\n",
    "for segment in tqdm(range(n_segments)):\n",
    "    corners = np.array( [track.lr_track[0+segment*2:4+segment*2]] )\n",
    "    found = in_quadrilateral(corners, points)\n",
    "    found_base = found_base + found\n",
    "\n",
    "# Add\n",
    "corners = np.concatenate([ [track.lr_track[-2:]],  [track.lr_track[:2]]] , axis=1)\n",
    "found = in_quadrilateral(corners, points)\n",
    "found_base = found_base + found\n",
    "\n",
    "found_base = found_base.astype('ubyte')"
   ]
  },
  {
   "cell_type": "code",
   "execution_count": null,
   "metadata": {},
   "outputs": [],
   "source": [
    "found_base = found_base.astype('ubyte')"
   ]
  },
  {
   "cell_type": "code",
   "execution_count": null,
   "metadata": {},
   "outputs": [],
   "source": [
    "# # plot the track\n",
    "plt.plot(track.right_border_x, track.right_border_y)\n",
    "plt.plot(track.left_border_x, track.left_border_y)\n",
    "#plt.plot(track.middle_x, track.middle_y)\n",
    "\n",
    "#plt.scatter(corners[0,:,0], corners[0,:,1],s=0.02)\n",
    "#plt.scatter(points[:,0], points[:,1], s=0.01)\n",
    "plt.scatter(points[found_base == 1][:,0], points[found_base == 1][:,1], s=0.02)\n",
    "plt.axis(\"equal\")"
   ]
  },
  {
   "cell_type": "markdown",
   "metadata": {},
   "source": [
    "# export\n"
   ]
  },
  {
   "cell_type": "code",
   "execution_count": null,
   "metadata": {},
   "outputs": [],
   "source": [
    "cell_size"
   ]
  },
  {
   "cell_type": "code",
   "execution_count": null,
   "metadata": {},
   "outputs": [],
   "source": [
    "import pickle\n",
    "track_map = {\"cell_size\": cell_size,\n",
    "        \"min_x\": min_x,\n",
    "        \"min_y\": min_y,\n",
    "        \"max_x\": max_x,\n",
    "        \"max_y\": max_y,\n",
    "        \"grid\": found_base.astype('ubyte')\n",
    "        }\n",
    "\n",
    "export_file = f\"{tracks_path}/{track_file_name}_{cell_size}m.pkl\"\n",
    "\n",
    "with open(export_file,'wb') as f:\n",
    "    pickle.dump(track_map, f)\n",
    "\n",
    "del track_map\n",
    "\n",
    "\n",
    "\n",
    "print(f\"saved to {export_file}\")"
   ]
  },
  {
   "cell_type": "code",
   "execution_count": null,
   "metadata": {},
   "outputs": [],
   "source": []
  },
  {
   "cell_type": "code",
   "execution_count": null,
   "metadata": {},
   "outputs": [],
   "source": []
  },
  {
   "cell_type": "code",
   "execution_count": null,
   "metadata": {},
   "outputs": [],
   "source": []
  },
  {
   "cell_type": "code",
   "execution_count": null,
   "metadata": {},
   "outputs": [],
   "source": []
  },
  {
   "cell_type": "code",
   "execution_count": null,
   "metadata": {},
   "outputs": [],
   "source": []
  },
  {
   "cell_type": "code",
   "execution_count": null,
   "metadata": {},
   "outputs": [],
   "source": []
  }
 ],
 "metadata": {
  "kernelspec": {
   "display_name": "p309",
   "language": "python",
   "name": "python3"
  },
  "language_info": {
   "codemirror_mode": {
    "name": "ipython",
    "version": 3
   },
   "file_extension": ".py",
   "mimetype": "text/x-python",
   "name": "python",
   "nbconvert_exporter": "python",
   "pygments_lexer": "ipython3",
   "version": "3.9.18"
  }
 },
 "nbformat": 4,
 "nbformat_minor": 4
}
